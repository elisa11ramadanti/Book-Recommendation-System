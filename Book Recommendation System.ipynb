{
  "nbformat": 4,
  "nbformat_minor": 0,
  "metadata": {
    "colab": {
      "provenance": []
    },
    "kernelspec": {
      "name": "python3",
      "display_name": "Python 3"
    },
    "language_info": {
      "name": "python"
    }
  },
  "cells": [
    {
      "cell_type": "markdown",
      "source": [
        "**Laporan Proyek Sistem Rekomendasi Buku**\n",
        "\n",
        "**Nama: Elisa Ramadanti**"
      ],
      "metadata": {
        "id": "4O-d3n2mPDfr"
      }
    },
    {
      "cell_type": "markdown",
      "source": [
        "# **Project Overview**\n",
        "\n",
        "\n",
        "**Latar Belakang** :\n",
        "\n",
        "Sistem rekomendasi buku menjadi semakin penting di era digital, di mana jumlah buku yang tersedia sangat besar dan pengguna sering kali kesulitan menemukan buku yang sesuai dengan preferensi mereka. Sistem ini bertujuan untuk membantu pengguna menemukan buku yang relevan berdasarkan riwayat interaksi mereka, seperti rating atau pembelian.\n",
        "\n",
        "**Pentingnya Proyek** :\n",
        "\n",
        "Proyek ini penting karena:\n",
        "\n",
        "1. Membantu pengguna menghemat waktu dalam mencari buku yang sesuai dengan minat mereka.\n",
        "2. Meningkatkan pengalaman pengguna dalam menjelajahi konten baru.\n",
        "\n",
        "**Riset/Referensi** : Sistem rekomendasi banyak digunakan di platform seperti Amazon, Goodreads, dan Google Books.\n",
        "\n",
        "  *  [Amazons](https://www.amazon.com/?spm=5aebb161.2ef5001f.0.0.14b05171p7gXjn)\n",
        "  *  [Google Books](https://books.google.com/)\n",
        "  *  [Goodreads Recommendation System](https://www.goodreads.com/)"
      ],
      "metadata": {
        "id": "1mVZ1wbnM98S"
      }
    },
    {
      "cell_type": "markdown",
      "source": [
        "# **Business Understanding**"
      ],
      "metadata": {
        "id": "GFPT8r7nNE2r"
      }
    },
    {
      "cell_type": "markdown",
      "source": [
        "**Problem Statements**\n",
        "  -  Bagaimana memberikan rekomendasi yang relevan berdasarkan riwayat interaksi pengguna (seperti rating atau pembelian)?"
      ],
      "metadata": {
        "id": "cp1gr9__2jST"
      }
    },
    {
      "cell_type": "markdown",
      "source": [
        "**Goals**\n",
        "-  Mengembangkan sistem rekomendasi yang dapat memberikan rekomendasi buku yang akurat untuk meningkatkan kepuasan pengguna."
      ],
      "metadata": {
        "id": "tujzk7Jw2oeh"
      }
    },
    {
      "cell_type": "markdown",
      "source": [
        "**Solution Approach**\n",
        "-  Menggunakan Collaborative Filtering dengan merekomendasikan buku berdasarkan interaksi pengguna, seperti rating yang diberikan terhadap buku. Metode yang digunakan adalah Singular Value Decomposition (SVD) dari pustaka Surprise untuk memberikan rekomendasi berdasarkan pola interaksi pengguna lain yang memiliki preferensi serupa."
      ],
      "metadata": {
        "id": "y9eX5JpL2sEC"
      }
    },
    {
      "cell_type": "markdown",
      "source": [
        "# **Data Understanding**"
      ],
      "metadata": {
        "id": "U03hZPymNG3u"
      }
    },
    {
      "cell_type": "markdown",
      "source": [
        "**Informasi Dataset:**\n",
        "\n",
        "-  **Jumlah Data:** Dataset ini memiliki 6810 baris dan 12 kolom.\n",
        "\n",
        "-  **Kondisi Data** :\n",
        "    - Terdapat beberapa missing values pada kolom s*ubtitle, categories, thumbnail, description, published_year, average_rating, num_pages*, dan *ratings_count.*\n",
        "    -  Tidak ada data duplikat berdasarkan pengecekan dengan df.duplicated().sum().\n",
        "-  **Sumber Data:** Dataset ini diambil dari [Kaggle: Books Dataset](https://www.kaggle.com/datasets/abdallahwagih/books-dataset/data)\n",
        "\n",
        "-  **Uraian Fitur Dataset:**\n",
        "    - isbn13, isbn10: Identifikasi unik buku.\n",
        "    - title, subtitle: Informasi tentang judul buku.\n",
        "    - authors: Penulis buku.\n",
        "    - categories: Kategori buku.\n",
        "    - thumbnail: URL gambar sampul buku.\n",
        "    - description: Deskripsi buku.\n",
        "    - published_year: Tahun publikasi.\n",
        "    - average_rating: Rating rata-rata buku.\n",
        "    - num_pages: Jumlah halaman.\n",
        "    - ratings_count: Jumlah rating yang diterima.\n"
      ],
      "metadata": {
        "id": "a9b9rYLQikCi"
      }
    },
    {
      "cell_type": "markdown",
      "source": [
        "## **Import Library**"
      ],
      "metadata": {
        "id": "wTia8d8zNT4M"
      }
    },
    {
      "cell_type": "code",
      "source": [
        "# Install Surprise\n",
        "!pip install scikit-surprise"
      ],
      "metadata": {
        "colab": {
          "base_uri": "https://localhost:8080/"
        },
        "id": "hxUGU6bhQwmK",
        "outputId": "8dd9c839-684e-492c-dd32-0317886c120c"
      },
      "execution_count": 1,
      "outputs": [
        {
          "output_type": "stream",
          "name": "stdout",
          "text": [
            "Collecting scikit-surprise\n",
            "  Downloading scikit_surprise-1.1.4.tar.gz (154 kB)\n",
            "\u001b[?25l     \u001b[90m━━━━━━━━━━━━━━━━━━━━━━━━━━━━━━━━━━━━━━━━\u001b[0m \u001b[32m0.0/154.4 kB\u001b[0m \u001b[31m?\u001b[0m eta \u001b[36m-:--:--\u001b[0m\r\u001b[2K     \u001b[91m━━━━━━━━━━━━━━━━━━━━━━━\u001b[0m\u001b[91m╸\u001b[0m\u001b[90m━━━━━━━━━━━━━━━━\u001b[0m \u001b[32m92.2/154.4 kB\u001b[0m \u001b[31m2.5 MB/s\u001b[0m eta \u001b[36m0:00:01\u001b[0m\r\u001b[2K     \u001b[90m━━━━━━━━━━━━━━━━━━━━━━━━━━━━━━━━━━━━━━━━\u001b[0m \u001b[32m154.4/154.4 kB\u001b[0m \u001b[31m2.4 MB/s\u001b[0m eta \u001b[36m0:00:00\u001b[0m\n",
            "\u001b[?25h  Installing build dependencies ... \u001b[?25l\u001b[?25hdone\n",
            "  Getting requirements to build wheel ... \u001b[?25l\u001b[?25hdone\n",
            "  Preparing metadata (pyproject.toml) ... \u001b[?25l\u001b[?25hdone\n",
            "Requirement already satisfied: joblib>=1.2.0 in /usr/local/lib/python3.11/dist-packages (from scikit-surprise) (1.4.2)\n",
            "Requirement already satisfied: numpy>=1.19.5 in /usr/local/lib/python3.11/dist-packages (from scikit-surprise) (1.26.4)\n",
            "Requirement already satisfied: scipy>=1.6.0 in /usr/local/lib/python3.11/dist-packages (from scikit-surprise) (1.13.1)\n",
            "Building wheels for collected packages: scikit-surprise\n",
            "  Building wheel for scikit-surprise (pyproject.toml) ... \u001b[?25l\u001b[?25hdone\n",
            "  Created wheel for scikit-surprise: filename=scikit_surprise-1.1.4-cp311-cp311-linux_x86_64.whl size=2505183 sha256=8f4bf100fc3a42946a2ad3ee0e935507683390dd266b8106d1c186e7b7bc435e\n",
            "  Stored in directory: /root/.cache/pip/wheels/2a/8f/6e/7e2899163e2d85d8266daab4aa1cdabec7a6c56f83c015b5af\n",
            "Successfully built scikit-surprise\n",
            "Installing collected packages: scikit-surprise\n",
            "Successfully installed scikit-surprise-1.1.4\n"
          ]
        }
      ]
    },
    {
      "cell_type": "code",
      "source": [
        "# Import Library\n",
        "import os\n",
        "import pandas as pd\n",
        "import numpy as np\n",
        "import matplotlib.pyplot as plt\n",
        "import seaborn as sns\n",
        "from surprise import Dataset, Reader, SVD\n",
        "from surprise import accuracy\n",
        "from surprise.model_selection import train_test_split\n",
        "from surprise.model_selection import cross_validate"
      ],
      "metadata": {
        "id": "o5SSjl2dNSOx"
      },
      "execution_count": 2,
      "outputs": []
    },
    {
      "cell_type": "markdown",
      "source": [
        "**Download dataset**"
      ],
      "metadata": {
        "id": "Sd_Is3I3z4IW"
      }
    },
    {
      "cell_type": "code",
      "execution_count": 3,
      "metadata": {
        "colab": {
          "base_uri": "https://localhost:8080/"
        },
        "id": "EGhRJOFlMkjr",
        "outputId": "ca021efc-56a8-4efa-aced-461b94bf4aea"
      },
      "outputs": [
        {
          "output_type": "stream",
          "name": "stdout",
          "text": [
            "Warning: Looks like you're using an outdated `kagglehub` version (installed: 0.3.7), please consider upgrading to the latest version (0.3.8).\n",
            "Downloading from https://www.kaggle.com/api/v1/datasets/download/abdallahwagih/books-dataset?dataset_version_number=1...\n"
          ]
        },
        {
          "output_type": "stream",
          "name": "stderr",
          "text": [
            "100%|██████████| 1.58M/1.58M [00:00<00:00, 45.1MB/s]"
          ]
        },
        {
          "output_type": "stream",
          "name": "stdout",
          "text": [
            "Extracting files...\n",
            "Path to dataset files: /root/.cache/kagglehub/datasets/abdallahwagih/books-dataset/versions/1\n"
          ]
        },
        {
          "output_type": "stream",
          "name": "stderr",
          "text": [
            "\n"
          ]
        }
      ],
      "source": [
        "import kagglehub\n",
        "\n",
        "# Download latest version\n",
        "path = kagglehub.dataset_download(\"abdallahwagih/books-dataset\")\n",
        "\n",
        "print(\"Path to dataset files:\", path)"
      ]
    },
    {
      "cell_type": "code",
      "source": [
        "# Path to the downloaded dataset\n",
        "path = \"/root/.cache/kagglehub/datasets/abdallahwagih/books-dataset/versions/1\"\n",
        "\n",
        "# Check the contents of the directory to find the actual filename\n",
        "print(\"Files in dataset directory:\")\n",
        "for filename in os.listdir(path):\n",
        "    print(filename)"
      ],
      "metadata": {
        "colab": {
          "base_uri": "https://localhost:8080/"
        },
        "id": "IVKQO-hzNRqc",
        "outputId": "7cf1a564-a357-4f9b-9eef-b6a3fa10845c"
      },
      "execution_count": 4,
      "outputs": [
        {
          "output_type": "stream",
          "name": "stdout",
          "text": [
            "Files in dataset directory:\n",
            "intents.json\n",
            "data.csv\n"
          ]
        }
      ]
    },
    {
      "cell_type": "markdown",
      "source": [
        "## **Data Loading**"
      ],
      "metadata": {
        "id": "qeT-_uTeNiyQ"
      }
    },
    {
      "cell_type": "code",
      "source": [
        "# Load Dataset\n",
        "filename = 'data.csv'\n",
        "df = pd.read_csv(os.path.join(path, filename))\n",
        "df.head()"
      ],
      "metadata": {
        "colab": {
          "base_uri": "https://localhost:8080/",
          "height": 590
        },
        "id": "oDyjG15pNe_P",
        "outputId": "524a36bf-432e-4abd-9076-ab0793f86be9"
      },
      "execution_count": 5,
      "outputs": [
        {
          "output_type": "execute_result",
          "data": {
            "text/plain": [
              "          isbn13      isbn10           title subtitle  \\\n",
              "0  9780002005883  0002005883          Gilead      NaN   \n",
              "1  9780002261982  0002261987    Spider's Web  A Novel   \n",
              "2  9780006163831  0006163831    The One Tree      NaN   \n",
              "3  9780006178736  0006178731  Rage of angels      NaN   \n",
              "4  9780006280897  0006280897  The Four Loves      NaN   \n",
              "\n",
              "                           authors                     categories  \\\n",
              "0               Marilynne Robinson                        Fiction   \n",
              "1  Charles Osborne;Agatha Christie  Detective and mystery stories   \n",
              "2             Stephen R. Donaldson               American fiction   \n",
              "3                   Sidney Sheldon                        Fiction   \n",
              "4              Clive Staples Lewis                 Christian life   \n",
              "\n",
              "                                           thumbnail  \\\n",
              "0  http://books.google.com/books/content?id=KQZCP...   \n",
              "1  http://books.google.com/books/content?id=gA5GP...   \n",
              "2  http://books.google.com/books/content?id=OmQaw...   \n",
              "3  http://books.google.com/books/content?id=FKo2T...   \n",
              "4  http://books.google.com/books/content?id=XhQ5X...   \n",
              "\n",
              "                                         description  published_year  \\\n",
              "0  A NOVEL THAT READERS and critics have been eag...          2004.0   \n",
              "1  A new 'Christie for Christmas' -- a full-lengt...          2000.0   \n",
              "2  Volume Two of Stephen Donaldson's acclaimed se...          1982.0   \n",
              "3  A memorable, mesmerizing heroine Jennifer -- b...          1993.0   \n",
              "4  Lewis' work on the nature of love divides love...          2002.0   \n",
              "\n",
              "   average_rating  num_pages  ratings_count  \n",
              "0            3.85      247.0          361.0  \n",
              "1            3.83      241.0         5164.0  \n",
              "2            3.97      479.0          172.0  \n",
              "3            3.93      512.0        29532.0  \n",
              "4            4.15      170.0        33684.0  "
            ],
            "text/html": [
              "\n",
              "  <div id=\"df-0d49b3f5-3fd8-4081-8e72-4fab1c49d298\" class=\"colab-df-container\">\n",
              "    <div>\n",
              "<style scoped>\n",
              "    .dataframe tbody tr th:only-of-type {\n",
              "        vertical-align: middle;\n",
              "    }\n",
              "\n",
              "    .dataframe tbody tr th {\n",
              "        vertical-align: top;\n",
              "    }\n",
              "\n",
              "    .dataframe thead th {\n",
              "        text-align: right;\n",
              "    }\n",
              "</style>\n",
              "<table border=\"1\" class=\"dataframe\">\n",
              "  <thead>\n",
              "    <tr style=\"text-align: right;\">\n",
              "      <th></th>\n",
              "      <th>isbn13</th>\n",
              "      <th>isbn10</th>\n",
              "      <th>title</th>\n",
              "      <th>subtitle</th>\n",
              "      <th>authors</th>\n",
              "      <th>categories</th>\n",
              "      <th>thumbnail</th>\n",
              "      <th>description</th>\n",
              "      <th>published_year</th>\n",
              "      <th>average_rating</th>\n",
              "      <th>num_pages</th>\n",
              "      <th>ratings_count</th>\n",
              "    </tr>\n",
              "  </thead>\n",
              "  <tbody>\n",
              "    <tr>\n",
              "      <th>0</th>\n",
              "      <td>9780002005883</td>\n",
              "      <td>0002005883</td>\n",
              "      <td>Gilead</td>\n",
              "      <td>NaN</td>\n",
              "      <td>Marilynne Robinson</td>\n",
              "      <td>Fiction</td>\n",
              "      <td>http://books.google.com/books/content?id=KQZCP...</td>\n",
              "      <td>A NOVEL THAT READERS and critics have been eag...</td>\n",
              "      <td>2004.0</td>\n",
              "      <td>3.85</td>\n",
              "      <td>247.0</td>\n",
              "      <td>361.0</td>\n",
              "    </tr>\n",
              "    <tr>\n",
              "      <th>1</th>\n",
              "      <td>9780002261982</td>\n",
              "      <td>0002261987</td>\n",
              "      <td>Spider's Web</td>\n",
              "      <td>A Novel</td>\n",
              "      <td>Charles Osborne;Agatha Christie</td>\n",
              "      <td>Detective and mystery stories</td>\n",
              "      <td>http://books.google.com/books/content?id=gA5GP...</td>\n",
              "      <td>A new 'Christie for Christmas' -- a full-lengt...</td>\n",
              "      <td>2000.0</td>\n",
              "      <td>3.83</td>\n",
              "      <td>241.0</td>\n",
              "      <td>5164.0</td>\n",
              "    </tr>\n",
              "    <tr>\n",
              "      <th>2</th>\n",
              "      <td>9780006163831</td>\n",
              "      <td>0006163831</td>\n",
              "      <td>The One Tree</td>\n",
              "      <td>NaN</td>\n",
              "      <td>Stephen R. Donaldson</td>\n",
              "      <td>American fiction</td>\n",
              "      <td>http://books.google.com/books/content?id=OmQaw...</td>\n",
              "      <td>Volume Two of Stephen Donaldson's acclaimed se...</td>\n",
              "      <td>1982.0</td>\n",
              "      <td>3.97</td>\n",
              "      <td>479.0</td>\n",
              "      <td>172.0</td>\n",
              "    </tr>\n",
              "    <tr>\n",
              "      <th>3</th>\n",
              "      <td>9780006178736</td>\n",
              "      <td>0006178731</td>\n",
              "      <td>Rage of angels</td>\n",
              "      <td>NaN</td>\n",
              "      <td>Sidney Sheldon</td>\n",
              "      <td>Fiction</td>\n",
              "      <td>http://books.google.com/books/content?id=FKo2T...</td>\n",
              "      <td>A memorable, mesmerizing heroine Jennifer -- b...</td>\n",
              "      <td>1993.0</td>\n",
              "      <td>3.93</td>\n",
              "      <td>512.0</td>\n",
              "      <td>29532.0</td>\n",
              "    </tr>\n",
              "    <tr>\n",
              "      <th>4</th>\n",
              "      <td>9780006280897</td>\n",
              "      <td>0006280897</td>\n",
              "      <td>The Four Loves</td>\n",
              "      <td>NaN</td>\n",
              "      <td>Clive Staples Lewis</td>\n",
              "      <td>Christian life</td>\n",
              "      <td>http://books.google.com/books/content?id=XhQ5X...</td>\n",
              "      <td>Lewis' work on the nature of love divides love...</td>\n",
              "      <td>2002.0</td>\n",
              "      <td>4.15</td>\n",
              "      <td>170.0</td>\n",
              "      <td>33684.0</td>\n",
              "    </tr>\n",
              "  </tbody>\n",
              "</table>\n",
              "</div>\n",
              "    <div class=\"colab-df-buttons\">\n",
              "\n",
              "  <div class=\"colab-df-container\">\n",
              "    <button class=\"colab-df-convert\" onclick=\"convertToInteractive('df-0d49b3f5-3fd8-4081-8e72-4fab1c49d298')\"\n",
              "            title=\"Convert this dataframe to an interactive table.\"\n",
              "            style=\"display:none;\">\n",
              "\n",
              "  <svg xmlns=\"http://www.w3.org/2000/svg\" height=\"24px\" viewBox=\"0 -960 960 960\">\n",
              "    <path d=\"M120-120v-720h720v720H120Zm60-500h600v-160H180v160Zm220 220h160v-160H400v160Zm0 220h160v-160H400v160ZM180-400h160v-160H180v160Zm440 0h160v-160H620v160ZM180-180h160v-160H180v160Zm440 0h160v-160H620v160Z\"/>\n",
              "  </svg>\n",
              "    </button>\n",
              "\n",
              "  <style>\n",
              "    .colab-df-container {\n",
              "      display:flex;\n",
              "      gap: 12px;\n",
              "    }\n",
              "\n",
              "    .colab-df-convert {\n",
              "      background-color: #E8F0FE;\n",
              "      border: none;\n",
              "      border-radius: 50%;\n",
              "      cursor: pointer;\n",
              "      display: none;\n",
              "      fill: #1967D2;\n",
              "      height: 32px;\n",
              "      padding: 0 0 0 0;\n",
              "      width: 32px;\n",
              "    }\n",
              "\n",
              "    .colab-df-convert:hover {\n",
              "      background-color: #E2EBFA;\n",
              "      box-shadow: 0px 1px 2px rgba(60, 64, 67, 0.3), 0px 1px 3px 1px rgba(60, 64, 67, 0.15);\n",
              "      fill: #174EA6;\n",
              "    }\n",
              "\n",
              "    .colab-df-buttons div {\n",
              "      margin-bottom: 4px;\n",
              "    }\n",
              "\n",
              "    [theme=dark] .colab-df-convert {\n",
              "      background-color: #3B4455;\n",
              "      fill: #D2E3FC;\n",
              "    }\n",
              "\n",
              "    [theme=dark] .colab-df-convert:hover {\n",
              "      background-color: #434B5C;\n",
              "      box-shadow: 0px 1px 3px 1px rgba(0, 0, 0, 0.15);\n",
              "      filter: drop-shadow(0px 1px 2px rgba(0, 0, 0, 0.3));\n",
              "      fill: #FFFFFF;\n",
              "    }\n",
              "  </style>\n",
              "\n",
              "    <script>\n",
              "      const buttonEl =\n",
              "        document.querySelector('#df-0d49b3f5-3fd8-4081-8e72-4fab1c49d298 button.colab-df-convert');\n",
              "      buttonEl.style.display =\n",
              "        google.colab.kernel.accessAllowed ? 'block' : 'none';\n",
              "\n",
              "      async function convertToInteractive(key) {\n",
              "        const element = document.querySelector('#df-0d49b3f5-3fd8-4081-8e72-4fab1c49d298');\n",
              "        const dataTable =\n",
              "          await google.colab.kernel.invokeFunction('convertToInteractive',\n",
              "                                                    [key], {});\n",
              "        if (!dataTable) return;\n",
              "\n",
              "        const docLinkHtml = 'Like what you see? Visit the ' +\n",
              "          '<a target=\"_blank\" href=https://colab.research.google.com/notebooks/data_table.ipynb>data table notebook</a>'\n",
              "          + ' to learn more about interactive tables.';\n",
              "        element.innerHTML = '';\n",
              "        dataTable['output_type'] = 'display_data';\n",
              "        await google.colab.output.renderOutput(dataTable, element);\n",
              "        const docLink = document.createElement('div');\n",
              "        docLink.innerHTML = docLinkHtml;\n",
              "        element.appendChild(docLink);\n",
              "      }\n",
              "    </script>\n",
              "  </div>\n",
              "\n",
              "\n",
              "<div id=\"df-8dea15e0-5c8a-4bb7-8f27-cf899f884347\">\n",
              "  <button class=\"colab-df-quickchart\" onclick=\"quickchart('df-8dea15e0-5c8a-4bb7-8f27-cf899f884347')\"\n",
              "            title=\"Suggest charts\"\n",
              "            style=\"display:none;\">\n",
              "\n",
              "<svg xmlns=\"http://www.w3.org/2000/svg\" height=\"24px\"viewBox=\"0 0 24 24\"\n",
              "     width=\"24px\">\n",
              "    <g>\n",
              "        <path d=\"M19 3H5c-1.1 0-2 .9-2 2v14c0 1.1.9 2 2 2h14c1.1 0 2-.9 2-2V5c0-1.1-.9-2-2-2zM9 17H7v-7h2v7zm4 0h-2V7h2v10zm4 0h-2v-4h2v4z\"/>\n",
              "    </g>\n",
              "</svg>\n",
              "  </button>\n",
              "\n",
              "<style>\n",
              "  .colab-df-quickchart {\n",
              "      --bg-color: #E8F0FE;\n",
              "      --fill-color: #1967D2;\n",
              "      --hover-bg-color: #E2EBFA;\n",
              "      --hover-fill-color: #174EA6;\n",
              "      --disabled-fill-color: #AAA;\n",
              "      --disabled-bg-color: #DDD;\n",
              "  }\n",
              "\n",
              "  [theme=dark] .colab-df-quickchart {\n",
              "      --bg-color: #3B4455;\n",
              "      --fill-color: #D2E3FC;\n",
              "      --hover-bg-color: #434B5C;\n",
              "      --hover-fill-color: #FFFFFF;\n",
              "      --disabled-bg-color: #3B4455;\n",
              "      --disabled-fill-color: #666;\n",
              "  }\n",
              "\n",
              "  .colab-df-quickchart {\n",
              "    background-color: var(--bg-color);\n",
              "    border: none;\n",
              "    border-radius: 50%;\n",
              "    cursor: pointer;\n",
              "    display: none;\n",
              "    fill: var(--fill-color);\n",
              "    height: 32px;\n",
              "    padding: 0;\n",
              "    width: 32px;\n",
              "  }\n",
              "\n",
              "  .colab-df-quickchart:hover {\n",
              "    background-color: var(--hover-bg-color);\n",
              "    box-shadow: 0 1px 2px rgba(60, 64, 67, 0.3), 0 1px 3px 1px rgba(60, 64, 67, 0.15);\n",
              "    fill: var(--button-hover-fill-color);\n",
              "  }\n",
              "\n",
              "  .colab-df-quickchart-complete:disabled,\n",
              "  .colab-df-quickchart-complete:disabled:hover {\n",
              "    background-color: var(--disabled-bg-color);\n",
              "    fill: var(--disabled-fill-color);\n",
              "    box-shadow: none;\n",
              "  }\n",
              "\n",
              "  .colab-df-spinner {\n",
              "    border: 2px solid var(--fill-color);\n",
              "    border-color: transparent;\n",
              "    border-bottom-color: var(--fill-color);\n",
              "    animation:\n",
              "      spin 1s steps(1) infinite;\n",
              "  }\n",
              "\n",
              "  @keyframes spin {\n",
              "    0% {\n",
              "      border-color: transparent;\n",
              "      border-bottom-color: var(--fill-color);\n",
              "      border-left-color: var(--fill-color);\n",
              "    }\n",
              "    20% {\n",
              "      border-color: transparent;\n",
              "      border-left-color: var(--fill-color);\n",
              "      border-top-color: var(--fill-color);\n",
              "    }\n",
              "    30% {\n",
              "      border-color: transparent;\n",
              "      border-left-color: var(--fill-color);\n",
              "      border-top-color: var(--fill-color);\n",
              "      border-right-color: var(--fill-color);\n",
              "    }\n",
              "    40% {\n",
              "      border-color: transparent;\n",
              "      border-right-color: var(--fill-color);\n",
              "      border-top-color: var(--fill-color);\n",
              "    }\n",
              "    60% {\n",
              "      border-color: transparent;\n",
              "      border-right-color: var(--fill-color);\n",
              "    }\n",
              "    80% {\n",
              "      border-color: transparent;\n",
              "      border-right-color: var(--fill-color);\n",
              "      border-bottom-color: var(--fill-color);\n",
              "    }\n",
              "    90% {\n",
              "      border-color: transparent;\n",
              "      border-bottom-color: var(--fill-color);\n",
              "    }\n",
              "  }\n",
              "</style>\n",
              "\n",
              "  <script>\n",
              "    async function quickchart(key) {\n",
              "      const quickchartButtonEl =\n",
              "        document.querySelector('#' + key + ' button');\n",
              "      quickchartButtonEl.disabled = true;  // To prevent multiple clicks.\n",
              "      quickchartButtonEl.classList.add('colab-df-spinner');\n",
              "      try {\n",
              "        const charts = await google.colab.kernel.invokeFunction(\n",
              "            'suggestCharts', [key], {});\n",
              "      } catch (error) {\n",
              "        console.error('Error during call to suggestCharts:', error);\n",
              "      }\n",
              "      quickchartButtonEl.classList.remove('colab-df-spinner');\n",
              "      quickchartButtonEl.classList.add('colab-df-quickchart-complete');\n",
              "    }\n",
              "    (() => {\n",
              "      let quickchartButtonEl =\n",
              "        document.querySelector('#df-8dea15e0-5c8a-4bb7-8f27-cf899f884347 button');\n",
              "      quickchartButtonEl.style.display =\n",
              "        google.colab.kernel.accessAllowed ? 'block' : 'none';\n",
              "    })();\n",
              "  </script>\n",
              "</div>\n",
              "\n",
              "    </div>\n",
              "  </div>\n"
            ],
            "application/vnd.google.colaboratory.intrinsic+json": {
              "type": "dataframe",
              "variable_name": "df",
              "summary": "{\n  \"name\": \"df\",\n  \"rows\": 6810,\n  \"fields\": [\n    {\n      \"column\": \"isbn13\",\n      \"properties\": {\n        \"dtype\": \"number\",\n        \"std\": 606891056,\n        \"min\": 9780002005883,\n        \"max\": 9789042003408,\n        \"num_unique_values\": 6810,\n        \"samples\": [\n          9780312994815,\n          9780671823498,\n          9780375725036\n        ],\n        \"semantic_type\": \"\",\n        \"description\": \"\"\n      }\n    },\n    {\n      \"column\": \"isbn10\",\n      \"properties\": {\n        \"dtype\": \"string\",\n        \"num_unique_values\": 6810,\n        \"samples\": [\n          \"0312994818\",\n          \"0671823493\",\n          \"0375725032\"\n        ],\n        \"semantic_type\": \"\",\n        \"description\": \"\"\n      }\n    },\n    {\n      \"column\": \"title\",\n      \"properties\": {\n        \"dtype\": \"string\",\n        \"num_unique_values\": 6398,\n        \"samples\": [\n          \"Rebekah\",\n          \"How to be a Perfect Stranger\",\n          \"Euripides, 3\"\n        ],\n        \"semantic_type\": \"\",\n        \"description\": \"\"\n      }\n    },\n    {\n      \"column\": \"subtitle\",\n      \"properties\": {\n        \"dtype\": \"category\",\n        \"num_unique_values\": 2009,\n        \"samples\": [\n          \"C.S. Lewis, Madeleine L'Engle, J.R. Tolkien, George MacDonald, G.K. Chesterton, Charles Williams, Dante Alighieri, John Bunyan, Walter Wangerin, Robert Siegel, and Hannah Hurnard\",\n          \"A Philosophical Translation\",\n          \"A Story of Race and Inheritance\"\n        ],\n        \"semantic_type\": \"\",\n        \"description\": \"\"\n      }\n    },\n    {\n      \"column\": \"authors\",\n      \"properties\": {\n        \"dtype\": \"string\",\n        \"num_unique_values\": 3780,\n        \"samples\": [\n          \"Daisetz Teitaro Suzuki;Erich Fromm;Richard De Martino\",\n          \"Roberta Gellis\",\n          \"Toni Morrison\"\n        ],\n        \"semantic_type\": \"\",\n        \"description\": \"\"\n      }\n    },\n    {\n      \"column\": \"categories\",\n      \"properties\": {\n        \"dtype\": \"category\",\n        \"num_unique_values\": 567,\n        \"samples\": [\n          \"Mars (Planet)\",\n          \"Assassins\",\n          \"United States\"\n        ],\n        \"semantic_type\": \"\",\n        \"description\": \"\"\n      }\n    },\n    {\n      \"column\": \"thumbnail\",\n      \"properties\": {\n        \"dtype\": \"string\",\n        \"num_unique_values\": 6481,\n        \"samples\": [\n          \"http://books.google.com/books/content?id=5cVKKLSC788C&printsec=frontcover&img=1&zoom=1&edge=curl&source=gbs_api\",\n          \"http://books.google.com/books/content?id=5o70W8CR6vMC&printsec=frontcover&img=1&zoom=1&source=gbs_api\",\n          \"http://books.google.com/books/content?id=M2JQxGf2Ex8C&printsec=frontcover&img=1&zoom=1&source=gbs_api\"\n        ],\n        \"semantic_type\": \"\",\n        \"description\": \"\"\n      }\n    },\n    {\n      \"column\": \"description\",\n      \"properties\": {\n        \"dtype\": \"string\",\n        \"num_unique_values\": 6474,\n        \"samples\": [\n          \"When sixteen-year-old Beka becomes \\\"Puppy\\\" to a pair of \\\"Dogs,\\\" as the Provost's Guards are called, she uses her police training, natural abilities, and a touch of magic to help them solve the case of a murdered baby in Tortall's Lower City.\",\n          \"The controversial memoir of a top British spy which finally reveals what really went on behind the scenes of the Falklands War For five years before the Falklands War, Hugh Bicheno was one of the top British spies in Argentina. As such, he gathered hard, corroborated intelligence on Argentine intentions over the Falklands - which the British establishment then chose to ignore. The reasons behind this British decision, and its disastrous and inevitable consequences in the South Atlantic, are the main story of this book. There were three main players in the war, each of them trying to overcome their own cultural baggage. The Argentines were riddled with guilt: after years of fighting a morally repugnant campaign against its own people, the Argentine military saw a war for the Malvinas islands as a perfect opportunity to win back their self-respect. The hands of the Americans were also bloody from the likewise dirty wars they had sponsored and abetted in Central America. For Britain it was simply the last straw after decades of humiliation.\",\n          \"Detective Sergeant Lloyd Hopkins of the LAPD, fueled by a desire to protect innocence, confronts a murderer who is driven by the same forces when he investigates a series of murders of young women in the Los Angeles area. Reprint. 15,000 first printing.\"\n        ],\n        \"semantic_type\": \"\",\n        \"description\": \"\"\n      }\n    },\n    {\n      \"column\": \"published_year\",\n      \"properties\": {\n        \"dtype\": \"number\",\n        \"std\": 10.48425716008255,\n        \"min\": 1853.0,\n        \"max\": 2019.0,\n        \"num_unique_values\": 94,\n        \"samples\": [\n          1980.0,\n          1966.0,\n          1975.0\n        ],\n        \"semantic_type\": \"\",\n        \"description\": \"\"\n      }\n    },\n    {\n      \"column\": \"average_rating\",\n      \"properties\": {\n        \"dtype\": \"number\",\n        \"std\": 0.33135160616178455,\n        \"min\": 0.0,\n        \"max\": 5.0,\n        \"num_unique_values\": 200,\n        \"samples\": [\n          4.5,\n          4.23,\n          3.56\n        ],\n        \"semantic_type\": \"\",\n        \"description\": \"\"\n      }\n    },\n    {\n      \"column\": \"num_pages\",\n      \"properties\": {\n        \"dtype\": \"number\",\n        \"std\": 242.37678264542132,\n        \"min\": 0.0,\n        \"max\": 3342.0,\n        \"num_unique_values\": 915,\n        \"samples\": [\n          154.0,\n          3020.0,\n          138.0\n        ],\n        \"semantic_type\": \"\",\n        \"description\": \"\"\n      }\n    },\n    {\n      \"column\": \"ratings_count\",\n      \"properties\": {\n        \"dtype\": \"number\",\n        \"std\": 137620.6786468925,\n        \"min\": 0.0,\n        \"max\": 5629932.0,\n        \"num_unique_values\": 3881,\n        \"samples\": [\n          23456.0,\n          213.0,\n          554.0\n        ],\n        \"semantic_type\": \"\",\n        \"description\": \"\"\n      }\n    }\n  ]\n}"
            }
          },
          "metadata": {},
          "execution_count": 5
        }
      ]
    },
    {
      "cell_type": "markdown",
      "source": [
        "### **Informasi Dataset**"
      ],
      "metadata": {
        "id": "WVf79o52Oe59"
      }
    },
    {
      "cell_type": "code",
      "source": [
        "df.info()"
      ],
      "metadata": {
        "colab": {
          "base_uri": "https://localhost:8080/"
        },
        "id": "buaWgt1rNsU1",
        "outputId": "74164946-5888-40d2-bb01-0788f161c348"
      },
      "execution_count": 6,
      "outputs": [
        {
          "output_type": "stream",
          "name": "stdout",
          "text": [
            "<class 'pandas.core.frame.DataFrame'>\n",
            "RangeIndex: 6810 entries, 0 to 6809\n",
            "Data columns (total 12 columns):\n",
            " #   Column          Non-Null Count  Dtype  \n",
            "---  ------          --------------  -----  \n",
            " 0   isbn13          6810 non-null   int64  \n",
            " 1   isbn10          6810 non-null   object \n",
            " 2   title           6810 non-null   object \n",
            " 3   subtitle        2381 non-null   object \n",
            " 4   authors         6738 non-null   object \n",
            " 5   categories      6711 non-null   object \n",
            " 6   thumbnail       6481 non-null   object \n",
            " 7   description     6548 non-null   object \n",
            " 8   published_year  6804 non-null   float64\n",
            " 9   average_rating  6767 non-null   float64\n",
            " 10  num_pages       6767 non-null   float64\n",
            " 11  ratings_count   6767 non-null   float64\n",
            "dtypes: float64(4), int64(1), object(7)\n",
            "memory usage: 638.6+ KB\n"
          ]
        }
      ]
    },
    {
      "cell_type": "markdown",
      "source": [
        "**Insight**\n",
        "\n",
        "-  Jumlah Data: 6810 entri, 12 kolom.\n",
        "-  Tipe Data:\n",
        "    1. Numerik: 4 kolom (published_year, average_rating, num_pages, ratings_count).\n",
        "    2. Objek/Teks: 7 kolom (isbn10, title, subtitle, authors, categories, thumbnail, description).\n",
        "    3. Integer: 1 kolom (isbn13)."
      ],
      "metadata": {
        "id": "gl57uyy_bz23"
      }
    },
    {
      "cell_type": "markdown",
      "source": [
        "**Menampilkan Missing Value**"
      ],
      "metadata": {
        "id": "FyXM7wxzuW01"
      }
    },
    {
      "cell_type": "code",
      "source": [
        "df.isnull().sum()"
      ],
      "metadata": {
        "colab": {
          "base_uri": "https://localhost:8080/",
          "height": 460
        },
        "id": "4JysEdgnntuc",
        "outputId": "fcef8811-4116-4c43-d9e5-ebea489caf01"
      },
      "execution_count": 7,
      "outputs": [
        {
          "output_type": "execute_result",
          "data": {
            "text/plain": [
              "isbn13               0\n",
              "isbn10               0\n",
              "title                0\n",
              "subtitle          4429\n",
              "authors             72\n",
              "categories          99\n",
              "thumbnail          329\n",
              "description        262\n",
              "published_year       6\n",
              "average_rating      43\n",
              "num_pages           43\n",
              "ratings_count       43\n",
              "dtype: int64"
            ],
            "text/html": [
              "<div>\n",
              "<style scoped>\n",
              "    .dataframe tbody tr th:only-of-type {\n",
              "        vertical-align: middle;\n",
              "    }\n",
              "\n",
              "    .dataframe tbody tr th {\n",
              "        vertical-align: top;\n",
              "    }\n",
              "\n",
              "    .dataframe thead th {\n",
              "        text-align: right;\n",
              "    }\n",
              "</style>\n",
              "<table border=\"1\" class=\"dataframe\">\n",
              "  <thead>\n",
              "    <tr style=\"text-align: right;\">\n",
              "      <th></th>\n",
              "      <th>0</th>\n",
              "    </tr>\n",
              "  </thead>\n",
              "  <tbody>\n",
              "    <tr>\n",
              "      <th>isbn13</th>\n",
              "      <td>0</td>\n",
              "    </tr>\n",
              "    <tr>\n",
              "      <th>isbn10</th>\n",
              "      <td>0</td>\n",
              "    </tr>\n",
              "    <tr>\n",
              "      <th>title</th>\n",
              "      <td>0</td>\n",
              "    </tr>\n",
              "    <tr>\n",
              "      <th>subtitle</th>\n",
              "      <td>4429</td>\n",
              "    </tr>\n",
              "    <tr>\n",
              "      <th>authors</th>\n",
              "      <td>72</td>\n",
              "    </tr>\n",
              "    <tr>\n",
              "      <th>categories</th>\n",
              "      <td>99</td>\n",
              "    </tr>\n",
              "    <tr>\n",
              "      <th>thumbnail</th>\n",
              "      <td>329</td>\n",
              "    </tr>\n",
              "    <tr>\n",
              "      <th>description</th>\n",
              "      <td>262</td>\n",
              "    </tr>\n",
              "    <tr>\n",
              "      <th>published_year</th>\n",
              "      <td>6</td>\n",
              "    </tr>\n",
              "    <tr>\n",
              "      <th>average_rating</th>\n",
              "      <td>43</td>\n",
              "    </tr>\n",
              "    <tr>\n",
              "      <th>num_pages</th>\n",
              "      <td>43</td>\n",
              "    </tr>\n",
              "    <tr>\n",
              "      <th>ratings_count</th>\n",
              "      <td>43</td>\n",
              "    </tr>\n",
              "  </tbody>\n",
              "</table>\n",
              "</div><br><label><b>dtype:</b> int64</label>"
            ]
          },
          "metadata": {},
          "execution_count": 7
        }
      ]
    },
    {
      "cell_type": "markdown",
      "source": [
        "**insight**:\n",
        "\n",
        "Berikut adalah jumlah missing values untuk setiap kolom:\n",
        "\n",
        "1. subtitle: 4429 missing (sekitar 65% data hilang)\n",
        "2. authors: 72 missing (sekitar 1% data hilang)\n",
        "3. categories: 99 missing (sekitar 1% data hilang)\n",
        "4. thumbnail: 329 missing (sekitar 5% data hilang)\n",
        "5. description: 262 missing (sekitar 4% data hilang)\n",
        "6. published_year: 6 missing (hampir tidak ada missing value)\n",
        "7. average_rating: 43 missing (sekitar 0.6% data hilang)\n",
        "8. num_pages: 43 missing (sekitar 0.6% data hilang)\n",
        "9. ratings_count: 43 missing (sekitar 0.6% data hilang)\n",
        "\n",
        "-  Kolom isbn13, isbn10, dan title tidak memiliki missing values"
      ],
      "metadata": {
        "id": "0S3eLvTFcPph"
      }
    },
    {
      "cell_type": "markdown",
      "source": [
        "**Menampilkan Data Duplikat**"
      ],
      "metadata": {
        "id": "6Ki2_smyubBm"
      }
    },
    {
      "cell_type": "code",
      "source": [
        "df.duplicated().sum()"
      ],
      "metadata": {
        "colab": {
          "base_uri": "https://localhost:8080/"
        },
        "id": "bI5sEPZinykS",
        "outputId": "e8acd800-7d83-4117-90b0-5b24eb895272"
      },
      "execution_count": 8,
      "outputs": [
        {
          "output_type": "execute_result",
          "data": {
            "text/plain": [
              "0"
            ]
          },
          "metadata": {},
          "execution_count": 8
        }
      ]
    },
    {
      "cell_type": "markdown",
      "source": [
        "**Insight:**\n",
        "\n",
        "Tidak memiliki data duplikat"
      ],
      "metadata": {
        "id": "Ba-NyHiycdgp"
      }
    },
    {
      "cell_type": "markdown",
      "source": [
        "**Visualisasi Distribusi Rating**"
      ],
      "metadata": {
        "id": "tFy1uG3bw-_M"
      }
    },
    {
      "cell_type": "code",
      "source": [
        "# Visualisasi Distribusi Rating\n",
        "plt.figure(figsize=(10, 6))\n",
        "sns.histplot(df['average_rating'], bins=30, kde=True, color='blue')\n",
        "plt.title('Distribusi Rating')\n",
        "plt.xlabel('Rating')\n",
        "plt.ylabel('Jumlah')\n",
        "plt.show()"
      ],
      "metadata": {
        "colab": {
          "base_uri": "https://localhost:8080/",
          "height": 480
        },
        "id": "JxTJeNt_rEiK",
        "outputId": "d5d3c2d7-0e0c-4926-92bd-cf07e64cbc0d"
      },
      "execution_count": 9,
      "outputs": [
        {
          "output_type": "display_data",
          "data": {
            "text/plain": [
              "<Figure size 1000x600 with 1 Axes>"
            ],
            "image/png": "[encoded data removed]"
          },
          "metadata": {}
        }
      ]
    },
    {
      "cell_type": "markdown",
      "source": [
        "**Insight :**\n",
        "\n",
        "Sebagian besar buku memiliki rating terbanyak di antara 3.5 hingga 4.5."
      ],
      "metadata": {
        "id": "7wI2rED95-ke"
      }
    },
    {
      "cell_type": "markdown",
      "source": [
        "# **Data Preprocessing**"
      ],
      "metadata": {
        "id": "c19DR5qPe8L7"
      }
    },
    {
      "cell_type": "markdown",
      "source": [
        "**Penambahan user_id Berdasarkan Indeks**"
      ],
      "metadata": {
        "id": "bgLUNdL3t3Ib"
      }
    },
    {
      "cell_type": "code",
      "source": [
        "# Tambahkan user_id berdasarkan indeks\n",
        "df['user_id'] = df.index"
      ],
      "metadata": {
        "id": "brdRQdr_sUNj"
      },
      "execution_count": 10,
      "outputs": []
    },
    {
      "cell_type": "markdown",
      "source": [
        "**Insight:**\n",
        "\n",
        "Memberikan identifier unik untuk setiap user menggunakan indeks dataframe."
      ],
      "metadata": {
        "id": "8ZvWBtw4t71M"
      }
    },
    {
      "cell_type": "markdown",
      "source": [
        "**Menangani missing values**"
      ],
      "metadata": {
        "id": "VP2ArP-JrLPr"
      }
    },
    {
      "cell_type": "code",
      "source": [
        "df_cleaned = df.dropna(subset=['ratings_count', 'average_rating'])"
      ],
      "metadata": {
        "id": "k37j4A4KrQ72"
      },
      "execution_count": 30,
      "outputs": []
    },
    {
      "cell_type": "markdown",
      "source": [
        "**Insight:**\n",
        "\n",
        "Menghapus missing values pada kolom average_rating dan ratings_count agar tidak memengaruhi perhitungan dalam sistem rekomendas"
      ],
      "metadata": {
        "id": "YInDvwIbzR8Q"
      }
    },
    {
      "cell_type": "markdown",
      "source": [
        "**Konversi Tipe Data**"
      ],
      "metadata": {
        "id": "URd28oN2uGpw"
      }
    },
    {
      "cell_type": "code",
      "source": [
        "# Konversi tipe data agar sesuai untuk Collaborative Filtering\n",
        "df_cleaned.loc[:, 'isbn13'] = df_cleaned['isbn13'].astype(str)\n",
        "df_cleaned.loc[:, 'user_id'] = df_cleaned['user_id'].astype(str)"
      ],
      "metadata": {
        "id": "6Y10AxQwscdO"
      },
      "execution_count": 22,
      "outputs": []
    },
    {
      "cell_type": "markdown",
      "source": [
        "**Insight**:\n",
        "\n",
        "Mengonversi tipe data isbn13 dan user_id menjadi string untuk memastikan konsistensi"
      ],
      "metadata": {
        "id": "0KJOG5816dDQ"
      }
    },
    {
      "cell_type": "code",
      "source": [
        "# Cek data setelah pembersihan\n",
        "print(\"\\nData Setelah Pembersihan:\")\n",
        "df_cleaned[['user_id', 'isbn13', 'ratings_count','average_rating']].head()"
      ],
      "metadata": {
        "colab": {
          "base_uri": "https://localhost:8080/",
          "height": 242
        },
        "id": "RYeqx_MnsgNn",
        "outputId": "f0c7dbf9-ae22-46ee-cc33-af2e7a585fcd"
      },
      "execution_count": 31,
      "outputs": [
        {
          "output_type": "stream",
          "name": "stdout",
          "text": [
            "\n",
            "Data Setelah Pembersihan:\n"
          ]
        },
        {
          "output_type": "execute_result",
          "data": {
            "text/plain": [
              "   user_id         isbn13  ratings_count  average_rating\n",
              "0        0  9780002005883          361.0            3.85\n",
              "1        1  9780002261982         5164.0            3.83\n",
              "2        2  9780006163831          172.0            3.97\n",
              "3        3  9780006178736        29532.0            3.93\n",
              "4        4  9780006280897        33684.0            4.15"
            ],
            "text/html": [
              "\n",
              "  <div id=\"df-b2abf257-d643-4b13-a369-b8b375f67028\" class=\"colab-df-container\">\n",
              "    <div>\n",
              "<style scoped>\n",
              "    .dataframe tbody tr th:only-of-type {\n",
              "        vertical-align: middle;\n",
              "    }\n",
              "\n",
              "    .dataframe tbody tr th {\n",
              "        vertical-align: top;\n",
              "    }\n",
              "\n",
              "    .dataframe thead th {\n",
              "        text-align: right;\n",
              "    }\n",
              "</style>\n",
              "<table border=\"1\" class=\"dataframe\">\n",
              "  <thead>\n",
              "    <tr style=\"text-align: right;\">\n",
              "      <th></th>\n",
              "      <th>user_id</th>\n",
              "      <th>isbn13</th>\n",
              "      <th>ratings_count</th>\n",
              "      <th>average_rating</th>\n",
              "    </tr>\n",
              "  </thead>\n",
              "  <tbody>\n",
              "    <tr>\n",
              "      <th>0</th>\n",
              "      <td>0</td>\n",
              "      <td>9780002005883</td>\n",
              "      <td>361.0</td>\n",
              "      <td>3.85</td>\n",
              "    </tr>\n",
              "    <tr>\n",
              "      <th>1</th>\n",
              "      <td>1</td>\n",
              "      <td>9780002261982</td>\n",
              "      <td>5164.0</td>\n",
              "      <td>3.83</td>\n",
              "    </tr>\n",
              "    <tr>\n",
              "      <th>2</th>\n",
              "      <td>2</td>\n",
              "      <td>9780006163831</td>\n",
              "      <td>172.0</td>\n",
              "      <td>3.97</td>\n",
              "    </tr>\n",
              "    <tr>\n",
              "      <th>3</th>\n",
              "      <td>3</td>\n",
              "      <td>9780006178736</td>\n",
              "      <td>29532.0</td>\n",
              "      <td>3.93</td>\n",
              "    </tr>\n",
              "    <tr>\n",
              "      <th>4</th>\n",
              "      <td>4</td>\n",
              "      <td>9780006280897</td>\n",
              "      <td>33684.0</td>\n",
              "      <td>4.15</td>\n",
              "    </tr>\n",
              "  </tbody>\n",
              "</table>\n",
              "</div>\n",
              "    <div class=\"colab-df-buttons\">\n",
              "\n",
              "  <div class=\"colab-df-container\">\n",
              "    <button class=\"colab-df-convert\" onclick=\"convertToInteractive('df-b2abf257-d643-4b13-a369-b8b375f67028')\"\n",
              "            title=\"Convert this dataframe to an interactive table.\"\n",
              "            style=\"display:none;\">\n",
              "\n",
              "  <svg xmlns=\"http://www.w3.org/2000/svg\" height=\"24px\" viewBox=\"0 -960 960 960\">\n",
              "    <path d=\"M120-120v-720h720v720H120Zm60-500h600v-160H180v160Zm220 220h160v-160H400v160Zm0 220h160v-160H400v160ZM180-400h160v-160H180v160Zm440 0h160v-160H620v160ZM180-180h160v-160H180v160Zm440 0h160v-160H620v160Z\"/>\n",
              "  </svg>\n",
              "    </button>\n",
              "\n",
              "  <style>\n",
              "    .colab-df-container {\n",
              "      display:flex;\n",
              "      gap: 12px;\n",
              "    }\n",
              "\n",
              "    .colab-df-convert {\n",
              "      background-color: #E8F0FE;\n",
              "      border: none;\n",
              "      border-radius: 50%;\n",
              "      cursor: pointer;\n",
              "      display: none;\n",
              "      fill: #1967D2;\n",
              "      height: 32px;\n",
              "      padding: 0 0 0 0;\n",
              "      width: 32px;\n",
              "    }\n",
              "\n",
              "    .colab-df-convert:hover {\n",
              "      background-color: #E2EBFA;\n",
              "      box-shadow: 0px 1px 2px rgba(60, 64, 67, 0.3), 0px 1px 3px 1px rgba(60, 64, 67, 0.15);\n",
              "      fill: #174EA6;\n",
              "    }\n",
              "\n",
              "    .colab-df-buttons div {\n",
              "      margin-bottom: 4px;\n",
              "    }\n",
              "\n",
              "    [theme=dark] .colab-df-convert {\n",
              "      background-color: #3B4455;\n",
              "      fill: #D2E3FC;\n",
              "    }\n",
              "\n",
              "    [theme=dark] .colab-df-convert:hover {\n",
              "      background-color: #434B5C;\n",
              "      box-shadow: 0px 1px 3px 1px rgba(0, 0, 0, 0.15);\n",
              "      filter: drop-shadow(0px 1px 2px rgba(0, 0, 0, 0.3));\n",
              "      fill: #FFFFFF;\n",
              "    }\n",
              "  </style>\n",
              "\n",
              "    <script>\n",
              "      const buttonEl =\n",
              "        document.querySelector('#df-b2abf257-d643-4b13-a369-b8b375f67028 button.colab-df-convert');\n",
              "      buttonEl.style.display =\n",
              "        google.colab.kernel.accessAllowed ? 'block' : 'none';\n",
              "\n",
              "      async function convertToInteractive(key) {\n",
              "        const element = document.querySelector('#df-b2abf257-d643-4b13-a369-b8b375f67028');\n",
              "        const dataTable =\n",
              "          await google.colab.kernel.invokeFunction('convertToInteractive',\n",
              "                                                    [key], {});\n",
              "        if (!dataTable) return;\n",
              "\n",
              "        const docLinkHtml = 'Like what you see? Visit the ' +\n",
              "          '<a target=\"_blank\" href=https://colab.research.google.com/notebooks/data_table.ipynb>data table notebook</a>'\n",
              "          + ' to learn more about interactive tables.';\n",
              "        element.innerHTML = '';\n",
              "        dataTable['output_type'] = 'display_data';\n",
              "        await google.colab.output.renderOutput(dataTable, element);\n",
              "        const docLink = document.createElement('div');\n",
              "        docLink.innerHTML = docLinkHtml;\n",
              "        element.appendChild(docLink);\n",
              "      }\n",
              "    </script>\n",
              "  </div>\n",
              "\n",
              "\n",
              "<div id=\"df-f04a20a9-a202-4498-a267-2ddbb83815ba\">\n",
              "  <button class=\"colab-df-quickchart\" onclick=\"quickchart('df-f04a20a9-a202-4498-a267-2ddbb83815ba')\"\n",
              "            title=\"Suggest charts\"\n",
              "            style=\"display:none;\">\n",
              "\n",
              "<svg xmlns=\"http://www.w3.org/2000/svg\" height=\"24px\"viewBox=\"0 0 24 24\"\n",
              "     width=\"24px\">\n",
              "    <g>\n",
              "        <path d=\"M19 3H5c-1.1 0-2 .9-2 2v14c0 1.1.9 2 2 2h14c1.1 0 2-.9 2-2V5c0-1.1-.9-2-2-2zM9 17H7v-7h2v7zm4 0h-2V7h2v10zm4 0h-2v-4h2v4z\"/>\n",
              "    </g>\n",
              "</svg>\n",
              "  </button>\n",
              "\n",
              "<style>\n",
              "  .colab-df-quickchart {\n",
              "      --bg-color: #E8F0FE;\n",
              "      --fill-color: #1967D2;\n",
              "      --hover-bg-color: #E2EBFA;\n",
              "      --hover-fill-color: #174EA6;\n",
              "      --disabled-fill-color: #AAA;\n",
              "      --disabled-bg-color: #DDD;\n",
              "  }\n",
              "\n",
              "  [theme=dark] .colab-df-quickchart {\n",
              "      --bg-color: #3B4455;\n",
              "      --fill-color: #D2E3FC;\n",
              "      --hover-bg-color: #434B5C;\n",
              "      --hover-fill-color: #FFFFFF;\n",
              "      --disabled-bg-color: #3B4455;\n",
              "      --disabled-fill-color: #666;\n",
              "  }\n",
              "\n",
              "  .colab-df-quickchart {\n",
              "    background-color: var(--bg-color);\n",
              "    border: none;\n",
              "    border-radius: 50%;\n",
              "    cursor: pointer;\n",
              "    display: none;\n",
              "    fill: var(--fill-color);\n",
              "    height: 32px;\n",
              "    padding: 0;\n",
              "    width: 32px;\n",
              "  }\n",
              "\n",
              "  .colab-df-quickchart:hover {\n",
              "    background-color: var(--hover-bg-color);\n",
              "    box-shadow: 0 1px 2px rgba(60, 64, 67, 0.3), 0 1px 3px 1px rgba(60, 64, 67, 0.15);\n",
              "    fill: var(--button-hover-fill-color);\n",
              "  }\n",
              "\n",
              "  .colab-df-quickchart-complete:disabled,\n",
              "  .colab-df-quickchart-complete:disabled:hover {\n",
              "    background-color: var(--disabled-bg-color);\n",
              "    fill: var(--disabled-fill-color);\n",
              "    box-shadow: none;\n",
              "  }\n",
              "\n",
              "  .colab-df-spinner {\n",
              "    border: 2px solid var(--fill-color);\n",
              "    border-color: transparent;\n",
              "    border-bottom-color: var(--fill-color);\n",
              "    animation:\n",
              "      spin 1s steps(1) infinite;\n",
              "  }\n",
              "\n",
              "  @keyframes spin {\n",
              "    0% {\n",
              "      border-color: transparent;\n",
              "      border-bottom-color: var(--fill-color);\n",
              "      border-left-color: var(--fill-color);\n",
              "    }\n",
              "    20% {\n",
              "      border-color: transparent;\n",
              "      border-left-color: var(--fill-color);\n",
              "      border-top-color: var(--fill-color);\n",
              "    }\n",
              "    30% {\n",
              "      border-color: transparent;\n",
              "      border-left-color: var(--fill-color);\n",
              "      border-top-color: var(--fill-color);\n",
              "      border-right-color: var(--fill-color);\n",
              "    }\n",
              "    40% {\n",
              "      border-color: transparent;\n",
              "      border-right-color: var(--fill-color);\n",
              "      border-top-color: var(--fill-color);\n",
              "    }\n",
              "    60% {\n",
              "      border-color: transparent;\n",
              "      border-right-color: var(--fill-color);\n",
              "    }\n",
              "    80% {\n",
              "      border-color: transparent;\n",
              "      border-right-color: var(--fill-color);\n",
              "      border-bottom-color: var(--fill-color);\n",
              "    }\n",
              "    90% {\n",
              "      border-color: transparent;\n",
              "      border-bottom-color: var(--fill-color);\n",
              "    }\n",
              "  }\n",
              "</style>\n",
              "\n",
              "  <script>\n",
              "    async function quickchart(key) {\n",
              "      const quickchartButtonEl =\n",
              "        document.querySelector('#' + key + ' button');\n",
              "      quickchartButtonEl.disabled = true;  // To prevent multiple clicks.\n",
              "      quickchartButtonEl.classList.add('colab-df-spinner');\n",
              "      try {\n",
              "        const charts = await google.colab.kernel.invokeFunction(\n",
              "            'suggestCharts', [key], {});\n",
              "      } catch (error) {\n",
              "        console.error('Error during call to suggestCharts:', error);\n",
              "      }\n",
              "      quickchartButtonEl.classList.remove('colab-df-spinner');\n",
              "      quickchartButtonEl.classList.add('colab-df-quickchart-complete');\n",
              "    }\n",
              "    (() => {\n",
              "      let quickchartButtonEl =\n",
              "        document.querySelector('#df-f04a20a9-a202-4498-a267-2ddbb83815ba button');\n",
              "      quickchartButtonEl.style.display =\n",
              "        google.colab.kernel.accessAllowed ? 'block' : 'none';\n",
              "    })();\n",
              "  </script>\n",
              "</div>\n",
              "\n",
              "    </div>\n",
              "  </div>\n"
            ],
            "application/vnd.google.colaboratory.intrinsic+json": {
              "type": "dataframe",
              "summary": "{\n  \"name\": \"df_cleaned[['user_id', 'isbn13', 'ratings_count','average_rating']]\",\n  \"rows\": 5,\n  \"fields\": [\n    {\n      \"column\": \"user_id\",\n      \"properties\": {\n        \"dtype\": \"number\",\n        \"std\": 1,\n        \"min\": 0,\n        \"max\": 4,\n        \"num_unique_values\": 5,\n        \"samples\": [\n          1,\n          4,\n          2\n        ],\n        \"semantic_type\": \"\",\n        \"description\": \"\"\n      }\n    },\n    {\n      \"column\": \"isbn13\",\n      \"properties\": {\n        \"dtype\": \"number\",\n        \"std\": 2233651,\n        \"min\": 9780002005883,\n        \"max\": 9780006280897,\n        \"num_unique_values\": 5,\n        \"samples\": [\n          9780002261982,\n          9780006280897,\n          9780006163831\n        ],\n        \"semantic_type\": \"\",\n        \"description\": \"\"\n      }\n    },\n    {\n      \"column\": \"ratings_count\",\n      \"properties\": {\n        \"dtype\": \"number\",\n        \"std\": 16460.387048912307,\n        \"min\": 172.0,\n        \"max\": 33684.0,\n        \"num_unique_values\": 5,\n        \"samples\": [\n          5164.0,\n          33684.0,\n          172.0\n        ],\n        \"semantic_type\": \"\",\n        \"description\": \"\"\n      }\n    },\n    {\n      \"column\": \"average_rating\",\n      \"properties\": {\n        \"dtype\": \"number\",\n        \"std\": 0.12759310326189277,\n        \"min\": 3.83,\n        \"max\": 4.15,\n        \"num_unique_values\": 5,\n        \"samples\": [\n          3.83,\n          4.15,\n          3.97\n        ],\n        \"semantic_type\": \"\",\n        \"description\": \"\"\n      }\n    }\n  ]\n}"
            }
          },
          "metadata": {},
          "execution_count": 31
        }
      ]
    },
    {
      "cell_type": "markdown",
      "source": [
        "### **Collaborative Filltering Preparation**"
      ],
      "metadata": {
        "id": "1FRu5gKouMjs"
      }
    },
    {
      "cell_type": "code",
      "source": [
        "# Persiapkan data untuk Surprise Library\n",
        "reader = Reader(rating_scale=(1, 5))\n",
        "data = Dataset.load_from_df(df_cleaned[['user_id', 'isbn13', 'average_rating']], reader)"
      ],
      "metadata": {
        "id": "J__TPbl8spxc"
      },
      "execution_count": 33,
      "outputs": []
    },
    {
      "cell_type": "markdown",
      "source": [
        "**Insight:**\n",
        "\n",
        "Collaborative Filtering menggunakan User-Item Matrix yang dibangun dari isbn13, dan average_rating"
      ],
      "metadata": {
        "id": "441hEgKj0pJv"
      }
    },
    {
      "cell_type": "markdown",
      "source": [
        "**Split data**"
      ],
      "metadata": {
        "id": "G_9Ll4RQ-jP1"
      }
    },
    {
      "cell_type": "code",
      "source": [
        "# Split data menjadi train dan test set\n",
        "trainset, testset = train_test_split(data, test_size=0.2)"
      ],
      "metadata": {
        "id": "DUdl5HmM-g4j"
      },
      "execution_count": 15,
      "outputs": []
    },
    {
      "cell_type": "markdown",
      "source": [
        "Data dibagi menjadi dua bagian: **Train Set** dan **Test Set** dengan proporsi **80% untuk Train Set** dan **20% untuk Test Set**.  "
      ],
      "metadata": {
        "id": "oXzzFy40haSb"
      }
    },
    {
      "cell_type": "markdown",
      "source": [
        "# **Modeling**"
      ],
      "metadata": {
        "id": "37HJG5d8uUyI"
      }
    },
    {
      "cell_type": "markdown",
      "source": [
        "Pada tahap ini, akan mengimplementasikan pendekatan sistem rekomendasi: **Collaborative Filtering**"
      ],
      "metadata": {
        "id": "tUByGy16zrHu"
      }
    },
    {
      "cell_type": "markdown",
      "source": [
        "**Collaborative Filtering**\n",
        "\n",
        "*   **Cara Kerja:** Merekomendasikan buku berdasarkan pola interaksi pengguna lain yang serupa (misalnya, rating atau pembelian).\n",
        "\n",
        "*   **Algoritma yang Digunakan:** Singular Value Decomposition (SVD) dari pustaka Surprise."
      ],
      "metadata": {
        "id": "LgKgL_UKvJeO"
      }
    },
    {
      "cell_type": "markdown",
      "source": [
        "**Proses ini menggunakan algoritma SVD (Singular Value Decomposition) untuk melakukan Collaborative Filtering.**"
      ],
      "metadata": {
        "id": "4OE_OLgbuZgB"
      }
    },
    {
      "cell_type": "code",
      "source": [
        "# Gunakan algoritma SVD untuk Collaborative Filtering\n",
        "algo = SVD()"
      ],
      "metadata": {
        "id": "LfwjCw43ssCr"
      },
      "execution_count": 16,
      "outputs": []
    },
    {
      "cell_type": "markdown",
      "source": [
        "**insight**:\n",
        "\n",
        "SVD adalah teknik dekomposisi matriks yang digunakan untuk mengurangi dimensi data dan menangkap pola interaksi pengguna"
      ],
      "metadata": {
        "id": "tzDkK7L62hE1"
      }
    },
    {
      "cell_type": "code",
      "source": [
        "# Train model menggunakan seluruh data\n",
        "trainset = data.build_full_trainset()\n",
        "algo.fit(trainset)"
      ],
      "metadata": {
        "colab": {
          "base_uri": "https://localhost:8080/"
        },
        "id": "X2x0LM1rs_ta",
        "outputId": "330e0415-3bf2-4d61-9744-88ec521412b8"
      },
      "execution_count": 17,
      "outputs": [
        {
          "output_type": "execute_result",
          "data": {
            "text/plain": [
              "<surprise.prediction_algorithms.matrix_factorization.SVD at 0x7898286aef90>"
            ]
          },
          "metadata": {},
          "execution_count": 17
        }
      ]
    },
    {
      "cell_type": "code",
      "source": [
        "# Fungsi untuk memberikan rekomendasi\n",
        "def recommend_books(user_id, n_recommendations=5):\n",
        "    # Ambil list ISBN yang pernah dirating user\n",
        "    rated_books = df_cleaned[df_cleaned['user_id'] == user_id]['isbn13'].tolist()\n",
        "    all_books = df_cleaned['isbn13'].unique()\n",
        "\n",
        "    # Prediksi rating untuk semua buku yang belum pernah dirating\n",
        "    predictions = []\n",
        "    for book in all_books:\n",
        "        if book not in rated_books:\n",
        "            pred = algo.predict(user_id, book)\n",
        "            predictions.append((book, pred.est))\n",
        "\n",
        "    # Urutkan prediksi berdasarkan rating tertinggi\n",
        "    predictions.sort(key=lambda x: x[1], reverse=True)\n",
        "\n",
        "    # Ambil top-N rekomendasi\n",
        "    recommended_books = predictions[:n_recommendations]\n",
        "    return recommended_books"
      ],
      "metadata": {
        "id": "J9h8QG0jtDsy"
      },
      "execution_count": 18,
      "outputs": []
    },
    {
      "cell_type": "code",
      "source": [
        "# Contoh penggunaan fungsi rekomendasi\n",
        "user_id = '3' # Input User\n",
        "recommended_books = recommend_books(user_id)\n",
        "\n",
        "print(f\"Rekomendasi Buku untuk User: {user_id}\")\n",
        "print(\"| Rank | Judul Buku                       | Prediksi Rating |\")\n",
        "print(\"|------|----------------------------------|-----------------|\")\n",
        "for rank, (isbn, rating) in enumerate(recommended_books, start=1):\n",
        "    book_title = df[df['isbn13'] == int(isbn)]['title'].values[0]\n",
        "    print(f\"|    {rank} | {book_title[:30]:<32} | {rating:.2f}            |\")"
      ],
      "metadata": {
        "colab": {
          "base_uri": "https://localhost:8080/"
        },
        "id": "UDTKPNU61xVa",
        "outputId": "925a23b3-3f4a-401b-a0fe-48a163b68f4b"
      },
      "execution_count": 27,
      "outputs": [
        {
          "output_type": "stream",
          "name": "stdout",
          "text": [
            "Rekomendasi Buku untuk User: 3\n",
            "| Rank | Judul Buku                       | Prediksi Rating |\n",
            "|------|----------------------------------|-----------------|\n",
            "|    1 | Justine                          | 4.28            |\n",
            "|    2 | Babar the King                   | 4.28            |\n",
            "|    3 | Children of the Mind             | 4.27            |\n",
            "|    4 | Night of the Long Shadows        | 4.27            |\n",
            "|    5 | The Kate DiCamillo Collection    | 4.27            |\n"
          ]
        }
      ]
    },
    {
      "cell_type": "code",
      "source": [
        "# Fungsi untuk menampilkan visualisasi Top-N Rekomendasi\n",
        "def visualize_recommendations(recommended_books, n_recommendations=5):\n",
        "    # Ambil judul buku dan prediksi rating\n",
        "    book_titles = []\n",
        "    ratings = []\n",
        "\n",
        "    for isbn, rating in recommended_books:\n",
        "        title = df[df['isbn13'] == int(isbn)]['title'].values[0]\n",
        "        book_titles.append(title[:30])  # Maksimal 30 karakter untuk judul\n",
        "        ratings.append(rating)\n",
        "\n",
        "    # Membuat bar plot menggunakan Seaborn\n",
        "    plt.figure(figsize=(10, 6))\n",
        "    sns.barplot(x=ratings, y=book_titles, palette='Blues')\n",
        "    plt.xlabel('Prediksi Rating')\n",
        "    plt.title(f'Top-{n_recommendations} Rekomendasi Buku untuk User {user_id}')\n",
        "    plt.grid(axis='x', linestyle='--', alpha=0.7)\n",
        "    plt.show()\n",
        "\n",
        "# Contoh penggunaan visualisasi\n",
        "visualize_recommendations(recommended_books)"
      ],
      "metadata": {
        "colab": {
          "base_uri": "https://localhost:8080/",
          "height": 522
        },
        "id": "E1xf7AfKUVdQ",
        "outputId": "6c72cc5c-3acc-4b14-c3fe-62780109edc9"
      },
      "execution_count": 36,
      "outputs": [
        {
          "output_type": "stream",
          "name": "stderr",
          "text": [
            "<ipython-input-36-ca686cc7471b>:14: FutureWarning: \n",
            "\n",
            "Passing `palette` without assigning `hue` is deprecated and will be removed in v0.14.0. Assign the `y` variable to `hue` and set `legend=False` for the same effect.\n",
            "\n",
            "  sns.barplot(x=ratings, y=book_titles, palette='Blues')\n"
          ]
        },
        {
          "output_type": "display_data",
          "data": {
            "text/plain": [
              "<Figure size 1000x600 with 1 Axes>"
            ],
            "image/png": "[encoded data removed]"
          },
          "metadata": {}
        }
      ]
    },
    {
      "cell_type": "markdown",
      "source": [
        "# **Evaluation**"
      ],
      "metadata": {
        "id": "NuXDGDYGulNY"
      }
    },
    {
      "cell_type": "markdown",
      "source": [
        "**Evaluasi ini menggunakan:**\n",
        "\n",
        "-  RMSE (Root Mean Square Error): Mengukur rata-rata kesalahan kuadrat.\n",
        "-  MAE (Mean Absolute Error): Mengukur rata-rata kesalahan absolut."
      ],
      "metadata": {
        "id": "03mUQPaFVljj"
      }
    },
    {
      "cell_type": "markdown",
      "source": [
        "**Evaluasi Model menggunakan Test Set**"
      ],
      "metadata": {
        "id": "uQX2rmbdU80f"
      }
    },
    {
      "cell_type": "code",
      "source": [
        "# Evaluasi model pada test set\n",
        "predictions = algo.test(testset)\n",
        "print(\"\\nEvaluasi Model:\")\n",
        "rmse = accuracy.rmse(predictions)\n",
        "mae = accuracy.mae(predictions)"
      ],
      "metadata": {
        "colab": {
          "base_uri": "https://localhost:8080/"
        },
        "id": "KcXXT1p1_Ttl",
        "outputId": "f7d3d7d7-94d8-4de4-9bee-8eace281935a"
      },
      "execution_count": 24,
      "outputs": [
        {
          "output_type": "stream",
          "name": "stdout",
          "text": [
            "\n",
            "Evaluasi Model:\n",
            "RMSE: 0.2473\n",
            "MAE:  0.1736\n"
          ]
        }
      ]
    },
    {
      "cell_type": "markdown",
      "source": [
        "**Insight:**\n",
        "\n",
        "-  RMSE (Root Mean Squared Error) = 0.2473 dan MAE (Mean Absolute Error) = 0.1736 menunjukkan bahwa model memiliki error yang relatif rendah dalam memprediksi rating pengguna.\n",
        "- Nilai MAE yang lebih kecil dari RMSE mengindikasikan bahwa sebagian besar prediksi cukup akurat, namun ada beberapa error yang lebih besar yang mempengaruhi RMSE."
      ],
      "metadata": {
        "id": "X01V0uojVWtX"
      }
    },
    {
      "cell_type": "markdown",
      "source": [
        "**Evaluasi dilakukan menggunakan Cross Validation dengan metrik RMSE dan MAE.**"
      ],
      "metadata": {
        "id": "FJNqP_6jujG-"
      }
    },
    {
      "cell_type": "code",
      "source": [
        "# Evaluasi model dengan Cross Validation\n",
        "cross_validate(algo, data, measures=['RMSE', 'MAE'], cv=5, verbose=True)"
      ],
      "metadata": {
        "colab": {
          "base_uri": "https://localhost:8080/"
        },
        "id": "Ur8Cf2zUsuQr",
        "outputId": "b3b08f38-b63d-4b8f-82c4-bc3b4b735a1b"
      },
      "execution_count": 21,
      "outputs": [
        {
          "output_type": "stream",
          "name": "stdout",
          "text": [
            "Evaluating RMSE, MAE of algorithm SVD on 5 split(s).\n",
            "\n",
            "                  Fold 1  Fold 2  Fold 3  Fold 4  Fold 5  Mean    Std     \n",
            "RMSE (testset)    0.3168  0.3391  0.3756  0.3195  0.3009  0.3304  0.0257  \n",
            "MAE (testset)     0.2175  0.2365  0.2368  0.2333  0.2318  0.2312  0.0071  \n",
            "Fit time          0.23    0.22    0.25    0.26    0.42    0.27    0.07    \n",
            "Test time         0.01    0.23    0.02    0.01    0.02    0.06    0.08    \n"
          ]
        },
        {
          "output_type": "execute_result",
          "data": {
            "text/plain": [
              "{'test_rmse': array([0.31677573, 0.33906936, 0.37560471, 0.31948199, 0.30085986]),\n",
              " 'test_mae': array([0.21752113, 0.23645734, 0.23680166, 0.23328716, 0.23181476]),\n",
              " 'fit_time': (0.23003578186035156,\n",
              "  0.2176969051361084,\n",
              "  0.25052571296691895,\n",
              "  0.25729894638061523,\n",
              "  0.4176971912384033),\n",
              " 'test_time': (0.014872312545776367,\n",
              "  0.22543048858642578,\n",
              "  0.023247957229614258,\n",
              "  0.010698795318603516,\n",
              "  0.01556706428527832)}"
            ]
          },
          "metadata": {},
          "execution_count": 21
        }
      ]
    },
    {
      "cell_type": "markdown",
      "source": [
        "**Insight:**\n",
        "-  Hasil evaluasi menunjukkan Rata-rata RMSE = 0.3304 dan MAE = 0.2312 pada 5-fold cross-validation menunjukkan performa yang cukup konsisten di setiap fold.\n"
      ],
      "metadata": {
        "id": "bYN-iuDpuqoA"
      }
    },
    {
      "cell_type": "markdown",
      "source": [
        "# **Conclusion**"
      ],
      "metadata": {
        "id": "zQ9Ug4dgu5Db"
      }
    },
    {
      "cell_type": "markdown",
      "source": [
        "- Sistem rekomendasi buku berhasil dibangun menggunakan Collaborative Filtering dengan metode SVD.\n",
        "- Model memberikan rekomendasi yang relevan berdasarkan pola interaksi pengguna lain yang memiliki preferensi serupa.\n",
        "- Hasil evaluasi menunjukkan RMSE sebesar 0.2473 dan MAE sebesar 0.1736, menandakan prediksi yang akurat.\n",
        "- Top-5 rekomendasi buku berhasil ditampilkan dengan prediksi rating tertinggi bagi pengguna.\n",
        "- Sistem ini membantu pengguna menemukan buku yang sesuai dengan preferensi mereka, meningkatkan pengalaman membaca."
      ],
      "metadata": {
        "id": "yNNv5V-Du7Tf"
      }
    }
  ]
}